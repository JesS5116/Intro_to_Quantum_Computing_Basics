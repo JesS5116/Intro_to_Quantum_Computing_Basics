{
 "cells": [
  {
   "cell_type": "code",
   "execution_count": 6,
   "id": "d403a01d",
   "metadata": {},
   "outputs": [],
   "source": [
    "from qiskit_textbook.games import *"
   ]
  },
  {
   "cell_type": "code",
   "execution_count": 8,
   "id": "744ea5ca",
   "metadata": {},
   "outputs": [
    {
     "ename": "ModuleNotFoundError",
     "evalue": "No module named 'hello_qiskit'",
     "output_type": "error",
     "traceback": [
      "\u001b[1;31m---------------------------------------------------------------------------\u001b[0m",
      "\u001b[1;31mModuleNotFoundError\u001b[0m                       Traceback (most recent call last)",
      "\u001b[1;32m<ipython-input-8-c8b3fb5dc1ea>\u001b[0m in \u001b[0;36m<module>\u001b[1;34m\u001b[0m\n\u001b[1;32m----> 1\u001b[1;33m \u001b[1;32mimport\u001b[0m \u001b[0mhello_qiskit\u001b[0m\u001b[1;33m\u001b[0m\u001b[1;33m\u001b[0m\u001b[0m\n\u001b[0m\u001b[0;32m      2\u001b[0m \u001b[0mhelp\u001b[0m\u001b[1;33m(\u001b[0m\u001b[0mhello_qiskit\u001b[0m\u001b[1;33m)\u001b[0m\u001b[1;33m\u001b[0m\u001b[1;33m\u001b[0m\u001b[0m\n",
      "\u001b[1;31mModuleNotFoundError\u001b[0m: No module named 'hello_qiskit'"
     ]
    }
   ],
   "source": [
    "import hello_qiskit\n",
    "help(hello_qiskit)"
   ]
  },
  {
   "cell_type": "code",
   "execution_count": 17,
   "id": "ab963460",
   "metadata": {},
   "outputs": [],
   "source": [
    "def run_puzzle(j):\n",
    "    puzzle = hello_quantum.run_game(exercises[j]['initialize'],\n",
    "                           exercises[j]['success_condition'],\n",
    "                           exercises[j]['allowed_gates'],\n",
    "                           exercises[j]['vi'],\n",
    "                           qubit_names=exercises[j]['qubit_names'],\n",
    "                           mode=exercises[j]['mode']\n",
    "                          )\n",
    "    return puzzle"
   ]
  },
  {
   "cell_type": "code",
   "execution_count": 5,
   "id": "f71d070a",
   "metadata": {},
   "outputs": [
    {
     "ename": "AttributeError",
     "evalue": "module 'qiskit_textbook.games' has no attribute 'hello_quantum'",
     "output_type": "error",
     "traceback": [
      "\u001b[1;31m---------------------------------------------------------------------------\u001b[0m",
      "\u001b[1;31mAttributeError\u001b[0m                            Traceback (most recent call last)",
      "\u001b[1;32m<ipython-input-5-cae84331a9e8>\u001b[0m in \u001b[0;36m<module>\u001b[1;34m\u001b[0m\n\u001b[1;32m----> 1\u001b[1;33m \u001b[0mqiskit_textbook\u001b[0m\u001b[1;33m.\u001b[0m\u001b[0mgames\u001b[0m\u001b[1;33m.\u001b[0m\u001b[0mhello_quantum\u001b[0m\u001b[1;33m\u001b[0m\u001b[1;33m\u001b[0m\u001b[0m\n\u001b[0m",
      "\u001b[1;31mAttributeError\u001b[0m: module 'qiskit_textbook.games' has no attribute 'hello_quantum'"
     ]
    }
   ],
   "source": [
    "qiskit_textbook.games.hello_quantum"
   ]
  },
  {
   "cell_type": "code",
   "execution_count": null,
   "id": "0e808fe0",
   "metadata": {},
   "outputs": [],
   "source": []
  }
 ],
 "metadata": {
  "kernelspec": {
   "display_name": "Python 3",
   "language": "python",
   "name": "python3"
  },
  "language_info": {
   "codemirror_mode": {
    "name": "ipython",
    "version": 3
   },
   "file_extension": ".py",
   "mimetype": "text/x-python",
   "name": "python",
   "nbconvert_exporter": "python",
   "pygments_lexer": "ipython3",
   "version": "3.9.4"
  }
 },
 "nbformat": 4,
 "nbformat_minor": 5
}
