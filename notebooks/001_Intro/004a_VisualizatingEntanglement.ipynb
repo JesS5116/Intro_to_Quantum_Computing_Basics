{
 "cells": [
  {
   "cell_type": "code",
   "execution_count": 2,
   "id": "d403a01d",
   "metadata": {},
   "outputs": [
    {
     "name": "stdout",
     "output_type": "stream",
     "text": [
      "Set up started...\n",
      "Set up complete!\n"
     ]
    }
   ],
   "source": [
    "print('Set up started...')\n",
    "from qiskit_textbook.games import *\n",
    "print('Set up complete!')"
   ]
  },
  {
   "cell_type": "code",
   "execution_count": 4,
   "id": "744ea5ca",
   "metadata": {
    "scrolled": true
   },
   "outputs": [
    {
     "name": "stdout",
     "output_type": "stream",
     "text": [
      "Help on package qiskit_textbook.games in qiskit_textbook:\n",
      "\n",
      "NAME\n",
      "    qiskit_textbook.games\n",
      "\n",
      "PACKAGE CONTENTS\n",
      "    hello_quantum\n",
      "    qiskit_game_engine\n",
      "\n",
      "FILE\n",
      "    d:\\5116_mis_cosas\\lier_unam\\winpython\\wpy64-3940\\python-3.9.4.amd64\\lib\\site-packages\\qiskit_textbook\\games\\__init__.py\n",
      "\n",
      "\n"
     ]
    }
   ],
   "source": [
    "import qiskit_textbook.games\n",
    "help(qiskit_textbook.games)"
   ]
  },
  {
   "cell_type": "code",
   "execution_count": 18,
   "id": "3f2203e3",
   "metadata": {
    "scrolled": true
   },
   "outputs": [
    {
     "ename": "NameError",
     "evalue": "name 'hello_quantum' is not defined",
     "output_type": "error",
     "traceback": [
      "\u001b[1;31m---------------------------------------------------------------------------\u001b[0m",
      "\u001b[1;31mNameError\u001b[0m                                 Traceback (most recent call last)",
      "\u001b[1;32m<ipython-input-18-a52f17a40f2b>\u001b[0m in \u001b[0;36m<module>\u001b[1;34m\u001b[0m\n\u001b[1;32m----> 1\u001b[1;33m \u001b[0mhello_quantum\u001b[0m\u001b[1;33m\u001b[0m\u001b[1;33m\u001b[0m\u001b[0m\n\u001b[0m",
      "\u001b[1;31mNameError\u001b[0m: name 'hello_quantum' is not defined"
     ]
    }
   ],
   "source": [
    "hello_quantum"
   ]
  },
  {
   "cell_type": "code",
   "execution_count": 20,
   "id": "ab963460",
   "metadata": {},
   "outputs": [],
   "source": [
    "def run_puzzle(j):\n",
    "    puzzle = hello_quantum.run_game(exercises[j]['initialize'],\n",
    "                           exercises[j]['success_condition'],\n",
    "                           exercises[j]['allowed_gates'],\n",
    "                           exercises[j]['vi'],\n",
    "                           qubit_names=exercises[j]['qubit_names'],\n",
    "                           mode=exercises[j]['mode']\n",
    "                          )\n",
    "    return puzzle"
   ]
  },
  {
   "cell_type": "code",
   "execution_count": 21,
   "id": "f71d070a",
   "metadata": {},
   "outputs": [
    {
     "ename": "NameError",
     "evalue": "name 'hello_quantum' is not defined",
     "output_type": "error",
     "traceback": [
      "\u001b[1;31m---------------------------------------------------------------------------\u001b[0m",
      "\u001b[1;31mNameError\u001b[0m                                 Traceback (most recent call last)",
      "\u001b[1;32m<ipython-input-21-c3b90c0a615f>\u001b[0m in \u001b[0;36m<module>\u001b[1;34m\u001b[0m\n\u001b[1;32m----> 1\u001b[1;33m \u001b[0mrun_puzzle\u001b[0m\u001b[1;33m(\u001b[0m\u001b[1;36m0\u001b[0m\u001b[1;33m)\u001b[0m\u001b[1;33m\u001b[0m\u001b[1;33m\u001b[0m\u001b[0m\n\u001b[0m",
      "\u001b[1;32m<ipython-input-20-561818dcb114>\u001b[0m in \u001b[0;36mrun_puzzle\u001b[1;34m(j)\u001b[0m\n\u001b[0;32m      1\u001b[0m \u001b[1;32mdef\u001b[0m \u001b[0mrun_puzzle\u001b[0m\u001b[1;33m(\u001b[0m\u001b[0mj\u001b[0m\u001b[1;33m)\u001b[0m\u001b[1;33m:\u001b[0m\u001b[1;33m\u001b[0m\u001b[1;33m\u001b[0m\u001b[0m\n\u001b[1;32m----> 2\u001b[1;33m     puzzle = hello_quantum.run_game(exercises[j]['initialize'],\n\u001b[0m\u001b[0;32m      3\u001b[0m                            \u001b[0mexercises\u001b[0m\u001b[1;33m[\u001b[0m\u001b[0mj\u001b[0m\u001b[1;33m]\u001b[0m\u001b[1;33m[\u001b[0m\u001b[1;34m'success_condition'\u001b[0m\u001b[1;33m]\u001b[0m\u001b[1;33m,\u001b[0m\u001b[1;33m\u001b[0m\u001b[1;33m\u001b[0m\u001b[0m\n\u001b[0;32m      4\u001b[0m                            \u001b[0mexercises\u001b[0m\u001b[1;33m[\u001b[0m\u001b[0mj\u001b[0m\u001b[1;33m]\u001b[0m\u001b[1;33m[\u001b[0m\u001b[1;34m'allowed_gates'\u001b[0m\u001b[1;33m]\u001b[0m\u001b[1;33m,\u001b[0m\u001b[1;33m\u001b[0m\u001b[1;33m\u001b[0m\u001b[0m\n\u001b[0;32m      5\u001b[0m                            \u001b[0mexercises\u001b[0m\u001b[1;33m[\u001b[0m\u001b[0mj\u001b[0m\u001b[1;33m]\u001b[0m\u001b[1;33m[\u001b[0m\u001b[1;34m'vi'\u001b[0m\u001b[1;33m]\u001b[0m\u001b[1;33m,\u001b[0m\u001b[1;33m\u001b[0m\u001b[1;33m\u001b[0m\u001b[0m\n",
      "\u001b[1;31mNameError\u001b[0m: name 'hello_quantum' is not defined"
     ]
    }
   ],
   "source": [
    "run_puzzle(0)"
   ]
  },
  {
   "cell_type": "code",
   "execution_count": null,
   "id": "0e808fe0",
   "metadata": {},
   "outputs": [],
   "source": []
  }
 ],
 "metadata": {
  "kernelspec": {
   "display_name": "Python 3",
   "language": "python",
   "name": "python3"
  },
  "language_info": {
   "codemirror_mode": {
    "name": "ipython",
    "version": 3
   },
   "file_extension": ".py",
   "mimetype": "text/x-python",
   "name": "python",
   "nbconvert_exporter": "python",
   "pygments_lexer": "ipython3",
   "version": "3.9.4"
  }
 },
 "nbformat": 4,
 "nbformat_minor": 5
}
