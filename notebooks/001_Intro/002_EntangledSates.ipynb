{
 "cells": [
  {
   "cell_type": "code",
   "execution_count": 1,
   "id": "dad0717a",
   "metadata": {},
   "outputs": [],
   "source": [
    "from qiskit import QuantumCircuit, Aer\n",
    "from qiskit.quantum_info import Statevector"
   ]
  },
  {
   "cell_type": "code",
   "execution_count": 2,
   "id": "82da8e3d",
   "metadata": {},
   "outputs": [
    {
     "data": {
      "text/latex": [
       "$$ |00\\rangle$$"
      ],
      "text/plain": [
       "<IPython.core.display.Latex object>"
      ]
     },
     "execution_count": 2,
     "metadata": {},
     "output_type": "execute_result"
    }
   ],
   "source": [
    "qc = QuantumCircuit(2)\n",
    "# This calculates the state of the vector\n",
    "ket = Statevector(qc)\n",
    "ket.draw(output='latex')"
   ]
  },
  {
   "cell_type": "code",
   "execution_count": 3,
   "id": "d4e02027",
   "metadata": {},
   "outputs": [
    {
     "data": {
      "text/latex": [
       "$$ |00\\rangle$$"
      ],
      "text/plain": [
       "<IPython.core.display.Latex object>"
      ]
     },
     "execution_count": 3,
     "metadata": {},
     "output_type": "execute_result"
    }
   ],
   "source": [
    "# apply de CX-gate to one of the qubits\n",
    "qc.cx(0,1)\n",
    "ket.draw(output='latex')"
   ]
  },
  {
   "cell_type": "code",
   "execution_count": 4,
   "id": "801ff25c",
   "metadata": {},
   "outputs": [
    {
     "data": {
      "text/latex": [
       "$$ |11\\rangle$$"
      ],
      "text/plain": [
       "<IPython.core.display.Latex object>"
      ]
     },
     "execution_count": 4,
     "metadata": {},
     "output_type": "execute_result"
    }
   ],
   "source": [
    "# Try again\n",
    "qc = QuantumCircuit(2)\n",
    "qc.x(1)\n",
    "qc.cx(1,0)\n",
    "# This calculates the state of the vector\n",
    "ket = Statevector(qc)\n",
    "ket.draw(output='latex')"
   ]
  },
  {
   "cell_type": "markdown",
   "id": "3de17639",
   "metadata": {},
   "source": [
    "## Let's try entangled a state"
   ]
  },
  {
   "cell_type": "code",
   "execution_count": 5,
   "id": "717bfe6d",
   "metadata": {},
   "outputs": [
    {
     "data": {
      "text/latex": [
       "$$\\frac{\\sqrt{2}}{2} |00\\rangle+\\frac{\\sqrt{2}}{2} |11\\rangle$$"
      ],
      "text/plain": [
       "<IPython.core.display.Latex object>"
      ]
     },
     "execution_count": 5,
     "metadata": {},
     "output_type": "execute_result"
    }
   ],
   "source": [
    "qc = QuantumCircuit(2)\n",
    "qc.h(1)\n",
    "qc.cx(1,0)\n",
    "#qc.cz(1,0) # gives a phase if |11>\n",
    "\n",
    "ket = Statevector(qc)\n",
    "ket.draw(output='latex')"
   ]
  },
  {
   "cell_type": "markdown",
   "id": "8045fd9b",
   "metadata": {},
   "source": [
    "## Physical interpreatation of CX"
   ]
  },
  {
   "cell_type": "code",
   "execution_count": 6,
   "id": "d4edc0f4",
   "metadata": {},
   "outputs": [
    {
     "data": {
      "text/latex": [
       "$$\\frac{1}{2} |00\\rangle- \\frac{1}{2} |01\\rangle+\\frac{1}{2} |10\\rangle- \\frac{1}{2} |11\\rangle$$"
      ],
      "text/plain": [
       "<IPython.core.display.Latex object>"
      ]
     },
     "execution_count": 6,
     "metadata": {},
     "output_type": "execute_result"
    }
   ],
   "source": [
    "qc = QuantumCircuit(2)\n",
    "qc.h(0)\n",
    "qc.h(1)\n",
    "qc.z(0) # pahse from |+> to |->\n",
    "\n",
    "ket = Statevector(qc)\n",
    "ket.draw(output='latex')"
   ]
  },
  {
   "cell_type": "code",
   "execution_count": 7,
   "id": "f534684b",
   "metadata": {},
   "outputs": [
    {
     "data": {
      "text/latex": [
       "$$\\frac{1}{2} |00\\rangle- \\frac{1}{2} |01\\rangle- \\frac{1}{2} |10\\rangle+\\frac{1}{2} |11\\rangle$$"
      ],
      "text/plain": [
       "<IPython.core.display.Latex object>"
      ]
     },
     "execution_count": 7,
     "metadata": {},
     "output_type": "execute_result"
    }
   ],
   "source": [
    "qc = QuantumCircuit(2)\n",
    "qc.h(0)\n",
    "qc.h(1)\n",
    "qc.z(0) # pahse from |+> to |->\n",
    "qc.cx(1,0) # pahse kickback\n",
    "\n",
    "ket = Statevector(qc)\n",
    "ket.draw(output='latex')"
   ]
  },
  {
   "cell_type": "markdown",
   "id": "f9f3874c",
   "metadata": {},
   "source": [
    "# Qubits working together: Superdense coding\n",
    "### The teleportation protocol"
   ]
  },
  {
   "cell_type": "code",
   "execution_count": 8,
   "id": "19ca60bb",
   "metadata": {},
   "outputs": [
    {
     "data": {
      "text/plain": [
       "{'00': 1024}"
      ]
     },
     "execution_count": 8,
     "metadata": {},
     "output_type": "execute_result"
    }
   ],
   "source": [
    "# Message\n",
    "message = '00'\n",
    "\n",
    "# Sen the message just using qubits to encode the value\n",
    "# and applying X-gate to flip them for a 1 state\n",
    "# but this not involve entanglement\n",
    "qc_alice = QuantumCircuit(2,2)\n",
    "if message[-1]=='1':\n",
    "    qc_alice.x(0)\n",
    "if message[-2]=='1':\n",
    "    qc_alice.x(1)\n",
    "    \n",
    "# Now Bob just need to measure\n",
    "backend = Aer.get_backend('aer_simulator')\n",
    "qc_bob = QuantumCircuit(2,2)\n",
    "qc_bob.measure([0,1],[0,1])\n",
    "backend.run(qc_alice.compose(qc_bob)).result().get_counts()"
   ]
  },
  {
   "cell_type": "markdown",
   "id": "35e0ae30",
   "metadata": {},
   "source": [
    "Now we can try with entanglement:"
   ]
  },
  {
   "cell_type": "code",
   "execution_count": 9,
   "id": "4b7fad99",
   "metadata": {},
   "outputs": [
    {
     "name": "stdout",
     "output_type": "stream",
     "text": [
      "This is the entanglement for state 00, there are others with the other three\n"
     ]
    },
    {
     "data": {
      "text/latex": [
       "$$\\frac{\\sqrt{2}}{2} |00\\rangle+\\frac{\\sqrt{2}}{2} |11\\rangle$$"
      ],
      "text/plain": [
       "<IPython.core.display.Latex object>"
      ]
     },
     "execution_count": 9,
     "metadata": {},
     "output_type": "execute_result"
    }
   ],
   "source": [
    "message = '00'\n",
    "qc_alice = QuantumCircuit(2,2)\n",
    "if message[-1]=='1':\n",
    "    qc_alice.x(0)\n",
    "if message[-2]=='1':\n",
    "    qc_alice.x(1)\n",
    "    \n",
    "# create the entangkement\n",
    "qc_alice.h(1)\n",
    "qc_alice.cx(1,0)\n",
    "ket = Statevector(qc_alice)\n",
    "print(f'This is the entanglement for state {message}, there are others with the other three')\n",
    "ket.draw(output='latex')"
   ]
  },
  {
   "cell_type": "markdown",
   "id": "1fa812c4",
   "metadata": {},
   "source": [
    "Bob needs to undo the H and CX gate to get to know the message:"
   ]
  },
  {
   "cell_type": "code",
   "execution_count": 10,
   "id": "bcab41a7",
   "metadata": {},
   "outputs": [
    {
     "data": {
      "text/plain": [
       "<qiskit.circuit.instructionset.InstructionSet at 0x25333ac1f10>"
      ]
     },
     "execution_count": 10,
     "metadata": {},
     "output_type": "execute_result"
    }
   ],
   "source": [
    "qc_bob = QuantumCircuit(2,2)\n",
    "# Disentagles\n",
    "qc_bob.cx(1,0)\n",
    "qc.h(1)\n",
    "# then measures\n",
    "qc_bob.measure([0,1],[0,1])"
   ]
  },
  {
   "attachments": {
    "image.png": {
     "image/png": "[encoded data removed]"
    }
   },
   "cell_type": "markdown",
   "id": "539579dc",
   "metadata": {},
   "source": [
    "![image.png](attachment:image.png)"
   ]
  },
  {
   "cell_type": "code",
   "execution_count": 30,
   "id": "ad9e5a74",
   "metadata": {},
   "outputs": [
    {
     "name": "stdout",
     "output_type": "stream",
     "text": [
      "This is the entangled state for 00:\n"
     ]
    },
    {
     "data": {
      "text/latex": [
       "$$\\frac{\\sqrt{2}}{2} |00\\rangle+\\frac{\\sqrt{2}}{2} |11\\rangle$$"
      ],
      "text/plain": [
       "<IPython.core.display.Latex object>"
      ]
     },
     "execution_count": 30,
     "metadata": {},
     "output_type": "execute_result"
    }
   ],
   "source": [
    "message = '00'\n",
    "\n",
    "qc_alice = QuantumCircuit(2,2)\n",
    "qc_alice.h(1)\n",
    "qc_alice.cx(1,0)\n",
    "\n",
    "# encoding the message into a Bell state\n",
    "if message[-2]=='1':\n",
    "    qc_alice.z(1)\n",
    "if message[-1]=='1':\n",
    "    qc_alice.x(1)\n",
    "\n",
    "ket = Statevector(qc_alice)\n",
    "print(f'This is the entangled state for {message}:')\n",
    "ket.draw(output='latex')"
   ]
  },
  {
   "cell_type": "code",
   "execution_count": 33,
   "id": "22f76581",
   "metadata": {},
   "outputs": [
    {
     "data": {
      "text/plain": [
       "{'00': 1024}"
      ]
     },
     "execution_count": 33,
     "metadata": {},
     "output_type": "execute_result"
    }
   ],
   "source": [
    "qc_bob = QuantumCircuit(2,2)\n",
    "# Bob disentangles\n",
    "qc_bob.cx(1,0)\n",
    "qc_bob.h(1)\n",
    "# Then measures\n",
    "qc_bob.measure([0,1],[0,1])\n",
    "\n",
    "backend = Aer.get_backend('aer_simulator')\n",
    "backend.run(qc_alice.compose(qc_bob)).result().get_counts()"
   ]
  },
  {
   "cell_type": "markdown",
   "id": "2db3c279",
   "metadata": {},
   "source": [
    "Now imagine just a third party that create the entangled state and the Alice encodes the message and send it to Bob"
   ]
  },
  {
   "cell_type": "code",
   "execution_count": 34,
   "id": "370c922d",
   "metadata": {},
   "outputs": [
    {
     "data": {
      "text/plain": [
       "<qiskit.circuit.instructionset.InstructionSet at 0x2533379b250>"
      ]
     },
     "execution_count": 34,
     "metadata": {},
     "output_type": "execute_result"
    }
   ],
   "source": [
    "qc_charlie = QuantumCircuit(2,2)\n",
    "qc_charlie.h(1)\n",
    "qc_charlie.cx(1,0)"
   ]
  },
  {
   "cell_type": "code",
   "execution_count": 35,
   "id": "913d1874",
   "metadata": {},
   "outputs": [],
   "source": [
    "message  = '00'\n",
    "qc_alice = QuantumCircuit(2,2)\n",
    "\n",
    "if message[-2]=='1':\n",
    "    qc_alice.z(1)\n",
    "if message[-1]=='1':\n",
    "    qc_alice.x(1)"
   ]
  },
  {
   "cell_type": "code",
   "execution_count": 36,
   "id": "14535244",
   "metadata": {},
   "outputs": [
    {
     "data": {
      "text/plain": [
       "<qiskit.circuit.instructionset.InstructionSet at 0x253338c5100>"
      ]
     },
     "execution_count": 36,
     "metadata": {},
     "output_type": "execute_result"
    }
   ],
   "source": [
    "qc_bob = QuantumCircuit(2,2)\n",
    "# Bob disentangles\n",
    "qc_bob.cx(1,0)\n",
    "qc_bob.h(1)\n",
    "# Then measures\n",
    "qc_bob.measure([0,1],[0,1])"
   ]
  },
  {
   "cell_type": "code",
   "execution_count": 37,
   "id": "d08fea37",
   "metadata": {},
   "outputs": [
    {
     "data": {
      "text/plain": [
       "{'00': 1024}"
      ]
     },
     "execution_count": 37,
     "metadata": {},
     "output_type": "execute_result"
    }
   ],
   "source": [
    "complete_qc = qc_charlie.compose(qc_alice.compose(qc_bob))\n",
    "backend.run(complete_qc).result().get_counts()"
   ]
  },
  {
   "cell_type": "code",
   "execution_count": 38,
   "id": "4e280b6d",
   "metadata": {},
   "outputs": [
    {
     "data": {
      "image/png": "[encoded data removed]",
      "text/plain": [
       "<Figure size 447.652x204.68 with 1 Axes>"
      ]
     },
     "execution_count": 38,
     "metadata": {},
     "output_type": "execute_result"
    }
   ],
   "source": [
    "complete_qc.draw(output='mpl')"
   ]
  },
  {
   "cell_type": "markdown",
   "id": "2f01d929",
   "metadata": {},
   "source": [
    "# Unique correlations: Hardy paradox"
   ]
  },
  {
   "cell_type": "markdown",
   "id": "47b1cfc4",
   "metadata": {},
   "source": [
    "The X-measurement:"
   ]
  },
  {
   "cell_type": "code",
   "execution_count": 46,
   "id": "201ab8e2",
   "metadata": {},
   "outputs": [
    {
     "name": "stdout",
     "output_type": "stream",
     "text": [
      "Results from x measurement: {'0': 529, '1': 495}\n"
     ]
    },
    {
     "data": {
      "image/png": "[encoded data removed]",
      "text/plain": [
       "<Figure size 193.726x144.48 with 1 Axes>"
      ]
     },
     "execution_count": 46,
     "metadata": {},
     "output_type": "execute_result"
    }
   ],
   "source": [
    "meas_x = QuantumCircuit(1,1)\n",
    "meas_x.h(0)\n",
    "meas_x.measure(0,0)\n",
    "\n",
    "print('Results from x measurement:',\n",
    "      backend.run(meas_x).result().get_counts())\n",
    "meas_x.draw(output='mpl')"
   ]
  },
  {
   "cell_type": "markdown",
   "id": "b95e9490",
   "metadata": {},
   "source": [
    "$\\newcommand{\\ket}[1]{\\left|{#1}\\right\\rangle}$\n",
    "$\\newcommand{\\bra}[1]{\\left\\langle{#1}\\right|}$\n",
    "If we initiate with $\\ket{1}$:"
   ]
  },
  {
   "cell_type": "code",
   "execution_count": 48,
   "id": "9023daa7",
   "metadata": {
    "scrolled": true
   },
   "outputs": [
    {
     "name": "stdout",
     "output_type": "stream",
     "text": [
      "Results from x measurement: {'0': 516, '1': 508}\n"
     ]
    },
    {
     "data": {
      "image/png": "[encoded data removed]",
      "text/plain": [
       "<Figure size 253.926x144.48 with 1 Axes>"
      ]
     },
     "execution_count": 48,
     "metadata": {},
     "output_type": "execute_result"
    }
   ],
   "source": [
    "meas_x = QuantumCircuit(1,1)\n",
    "meas_x.x(0)\n",
    "meas_x.h(0)\n",
    "meas_x.measure(0,0)\n",
    "\n",
    "print('Results from x measurement:',\n",
    "      backend.run(meas_x).result().get_counts())\n",
    "meas_x.draw(output='mpl')"
   ]
  },
  {
   "cell_type": "markdown",
   "id": "6b0ff2a4",
   "metadata": {},
   "source": [
    "$\\newcommand{\\ket}[1]{\\left|{#1}\\right\\rangle}$\n",
    "$\\newcommand{\\bra}[1]{\\left\\langle{#1}\\right|}$\n",
    "If we initiate with $\\ket{+}$:"
   ]
  },
  {
   "cell_type": "code",
   "execution_count": 49,
   "id": "aac7ca5a",
   "metadata": {},
   "outputs": [
    {
     "name": "stdout",
     "output_type": "stream",
     "text": [
      "Results from x measurement: {'0': 1024}\n"
     ]
    },
    {
     "data": {
      "image/png": "[encoded data removed]",
      "text/plain": [
       "<Figure size 253.926x144.48 with 1 Axes>"
      ]
     },
     "execution_count": 49,
     "metadata": {},
     "output_type": "execute_result"
    }
   ],
   "source": [
    "meas_x = QuantumCircuit(1,1)\n",
    "meas_x.h(0)\n",
    "meas_x.h(0)\n",
    "meas_x.measure(0,0)\n",
    "\n",
    "print('Results from x measurement:',\n",
    "      backend.run(meas_x).result().get_counts())\n",
    "meas_x.draw(output='mpl')"
   ]
  },
  {
   "cell_type": "markdown",
   "id": "78924cee",
   "metadata": {},
   "source": [
    "The Z-measurement:"
   ]
  },
  {
   "cell_type": "code",
   "execution_count": 51,
   "id": "600c33c2",
   "metadata": {},
   "outputs": [
    {
     "name": "stdout",
     "output_type": "stream",
     "text": [
      "Results from z measurement: {'0': 1024}\n"
     ]
    },
    {
     "data": {
      "image/png": "[encoded data removed]",
      "text/plain": [
       "<Figure size 133.526x144.48 with 1 Axes>"
      ]
     },
     "execution_count": 51,
     "metadata": {},
     "output_type": "execute_result"
    }
   ],
   "source": [
    "meas_z = QuantumCircuit(1,1)\n",
    "meas_z.measure(0,0)\n",
    "\n",
    "print('Results from z measurement:',\n",
    "      backend.run(meas_z).result().get_counts())\n",
    "meas_z.draw(output='mpl')"
   ]
  },
  {
   "cell_type": "markdown",
   "id": "0afe8fb0",
   "metadata": {},
   "source": [
    "$\\newcommand{\\ket}[1]{\\left|{#1}\\right\\rangle}$\n",
    "$\\newcommand{\\bra}[1]{\\left\\langle{#1}\\right|}$\n",
    "If we initiate with $\\ket{1}$:"
   ]
  },
  {
   "cell_type": "code",
   "execution_count": 52,
   "id": "4889c846",
   "metadata": {},
   "outputs": [
    {
     "name": "stdout",
     "output_type": "stream",
     "text": [
      "Results from z measurement: {'1': 1024}\n"
     ]
    },
    {
     "data": {
      "image/png": "[encoded data removed]",
      "text/plain": [
       "<Figure size 193.726x144.48 with 1 Axes>"
      ]
     },
     "execution_count": 52,
     "metadata": {},
     "output_type": "execute_result"
    }
   ],
   "source": [
    "meas_z = QuantumCircuit(1,1)\n",
    "meas_z.x(0)\n",
    "meas_z.measure(0,0)\n",
    "\n",
    "print('Results from z measurement:',\n",
    "      backend.run(meas_z).result().get_counts())\n",
    "meas_z.draw(output='mpl')"
   ]
  },
  {
   "cell_type": "markdown",
   "id": "d91c2f78",
   "metadata": {},
   "source": [
    "$\\newcommand{\\ket}[1]{\\left|{#1}\\right\\rangle}$\n",
    "$\\newcommand{\\bra}[1]{\\left\\langle{#1}\\right|}$\n",
    "If we initiate with $\\ket{+}$:"
   ]
  },
  {
   "cell_type": "code",
   "execution_count": 53,
   "id": "b5ddde40",
   "metadata": {},
   "outputs": [
    {
     "name": "stdout",
     "output_type": "stream",
     "text": [
      "Results from z measurement: {'0': 516, '1': 508}\n"
     ]
    },
    {
     "data": {
      "image/png": "[encoded data removed]",
      "text/plain": [
       "<Figure size 193.726x144.48 with 1 Axes>"
      ]
     },
     "execution_count": 53,
     "metadata": {},
     "output_type": "execute_result"
    }
   ],
   "source": [
    "meas_z = QuantumCircuit(1,1)\n",
    "meas_z.h(0)\n",
    "meas_z.measure(0,0)\n",
    "\n",
    "print('Results from z measurement:',\n",
    "      backend.run(meas_z).result().get_counts())\n",
    "meas_z.draw(output='mpl')"
   ]
  },
  {
   "cell_type": "markdown",
   "id": "d3e91b9c",
   "metadata": {},
   "source": [
    "Now, the H-gate apply in Z-measurement circuit gives an uncertainty, while on X-measurement circuit gives certainty.\n",
    "\n",
    "Now we can try different angles of rotaitons:"
   ]
  },
  {
   "cell_type": "code",
   "execution_count": 54,
   "id": "6380685b",
   "metadata": {},
   "outputs": [
    {
     "data": {
      "text/plain": [
       "<qiskit.circuit.instructionset.InstructionSet at 0x2536e785970>"
      ]
     },
     "execution_count": 54,
     "metadata": {},
     "output_type": "execute_result"
    }
   ],
   "source": [
    "meas_z = QuantumCircuit(1,1)\n",
    "meas_z.measure(0,0)\n",
    "\n",
    "meas_x = QuantumCircuit(1,1)\n",
    "meas_x.h(0)\n",
    "meas_x.measure(0,0)"
   ]
  },
  {
   "cell_type": "markdown",
   "id": "8bca2364",
   "metadata": {},
   "source": [
    "Apply $Ry=-\\pi/4$:"
   ]
  },
  {
   "cell_type": "code",
   "execution_count": 55,
   "id": "be239e2b",
   "metadata": {},
   "outputs": [
    {
     "data": {
      "text/plain": [
       "<qiskit.circuit.instructionset.InstructionSet at 0x2536eb169d0>"
      ]
     },
     "execution_count": 55,
     "metadata": {},
     "output_type": "execute_result"
    }
   ],
   "source": [
    "from math import pi\n",
    "\n",
    "qc = QuantumCircuit(1,1)\n",
    "qc.ry(-pi/4,0)"
   ]
  },
  {
   "cell_type": "code",
   "execution_count": 56,
   "id": "1269c984",
   "metadata": {},
   "outputs": [
    {
     "name": "stdout",
     "output_type": "stream",
     "text": [
      "Results from z measurement: {'0': 861, '1': 163}\n",
      "Results from x measurement: {'1': 875, '0': 149}\n"
     ]
    }
   ],
   "source": [
    "for basis,circ in [('z', meas_z), ('x', meas_x)]:\n",
    "    print('Results from ' + basis + ' measurement:',\n",
    "      backend.run(qc.compose(circ)).result().get_counts())"
   ]
  },
  {
   "cell_type": "markdown",
   "id": "a713b84c",
   "metadata": {},
   "source": []
  }
 ],
 "metadata": {
  "kernelspec": {
   "display_name": "Python 3",
   "language": "python",
   "name": "python3"
  },
  "language_info": {
   "codemirror_mode": {
    "name": "ipython",
    "version": 3
   },
   "file_extension": ".py",
   "mimetype": "text/x-python",
   "name": "python",
   "nbconvert_exporter": "python",
   "pygments_lexer": "ipython3",
   "version": "3.9.4"
  }
 },
 "nbformat": 4,
 "nbformat_minor": 5
}
